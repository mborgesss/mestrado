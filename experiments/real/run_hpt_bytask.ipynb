{
 "cells": [
  {
   "cell_type": "markdown",
   "metadata": {},
   "source": [
    "# Configurando experimento"
   ]
  },
  {
   "cell_type": "code",
   "execution_count": 1,
   "metadata": {},
   "outputs": [],
   "source": [
    "import sys\n",
    "sys.path.append('..')\n",
    "from config import *\n",
    "import pandas as pd\n",
    "import datetime\n",
    "import pickle\n",
    "import os\n",
    "from tqdm import tqdm\n",
    "\n",
    "sys.path.append('../..')\n",
    "from src.model.weather_pert import WeatherPert\n",
    "from src.model.true import check_duration\n",
    "from joblib import Parallel, delayed\n",
    "from src.validation.validation import *\n"
   ]
  },
  {
   "cell_type": "code",
   "execution_count": 2,
   "metadata": {},
   "outputs": [
    {
     "name": "stdout",
     "output_type": "stream",
     "text": [
      "date_train ['2017-01-01', '2017-01-08', '2017-01-15', '2017-01-22', '2017-01-29', '2017-02-05', '2017-02-12', '2017-02-19', '2017-02-26', '2017-03-05', '2017-03-12', '2017-03-19', '2017-03-26', '2017-04-02', '2017-04-09', '2017-04-16', '2017-04-23', '2017-04-30', '2017-05-07', '2017-05-14', '2017-05-21', '2017-05-28', '2017-06-04', '2017-06-11', '2017-06-18', '2017-06-25', '2017-07-02', '2017-07-09', '2017-07-16', '2017-07-23', '2017-07-30', '2017-08-06', '2017-08-13', '2017-08-20', '2017-08-27', '2017-09-03', '2017-09-10', '2017-09-17', '2017-09-24', '2017-10-01', '2017-10-08', '2017-10-15', '2017-10-22', '2017-10-29', '2017-11-05', '2017-11-12', '2017-11-19', '2017-11-26', '2017-12-03', '2017-12-10', '2017-12-17', '2017-12-24', '2017-12-31']\n",
      "date_test ['2019-01-01', '2019-01-08', '2019-01-15', '2019-01-22', '2019-01-29', '2019-02-05', '2019-02-12', '2019-02-19', '2019-02-26', '2019-03-05', '2019-03-12', '2019-03-19', '2019-03-26', '2019-04-02', '2019-04-09', '2019-04-16', '2019-04-23', '2019-04-30', '2019-05-07', '2019-05-14', '2019-05-21', '2019-05-28', '2019-06-04', '2019-06-11', '2019-06-18', '2019-06-25', '2019-07-02', '2019-07-09', '2019-07-16', '2019-07-23', '2019-07-30', '2019-08-06', '2019-08-13', '2019-08-20', '2019-08-27', '2019-09-03', '2019-09-10', '2019-09-17', '2019-09-24', '2019-10-01', '2019-10-08', '2019-10-15', '2019-10-22', '2019-10-29', '2019-11-05', '2019-11-12', '2019-11-19', '2019-11-26', '2019-12-03', '2019-12-10', '2019-12-17', '2019-12-24', '2019-12-31', '2020-01-07', '2020-01-14', '2020-01-21', '2020-01-28', '2020-02-04', '2020-02-11', '2020-02-18', '2020-02-25', '2020-03-03', '2020-03-10', '2020-03-17', '2020-03-24', '2020-03-31', '2020-04-07', '2020-04-14', '2020-04-21', '2020-04-28', '2020-05-05', '2020-05-12', '2020-05-19', '2020-05-26', '2020-06-02', '2020-06-09', '2020-06-16', '2020-06-23', '2020-06-30', '2020-07-07', '2020-07-14', '2020-07-21', '2020-07-28', '2020-08-04', '2020-08-11', '2020-08-18', '2020-08-25', '2020-09-01', '2020-09-08', '2020-09-15', '2020-09-22', '2020-09-29', '2020-10-06', '2020-10-13', '2020-10-20', '2020-10-27', '2020-11-03', '2020-11-10', '2020-11-17', '2020-11-24', '2020-12-01', '2020-12-08', '2020-12-15', '2020-12-22', '2020-12-29']\n",
      "56\n"
     ]
    }
   ],
   "source": [
    "\n",
    "B = 20_000\n",
    "month_var = 'month'\n",
    "doy_var = 'doy'\n",
    "\n",
    "date_train_start = datetime.date(2017, 1, 1)\n",
    "date_train_end = datetime.date(2017, 12, 31)\n",
    "date_train = [(date_train_start+datetime.timedelta(days=x)).isoformat() for x in range(0, (date_train_end-date_train_start).days+1, 7)]\n",
    "print('date_train', date_train)\n",
    "\n",
    "date_test_start = datetime.date(2019, 1, 1)\n",
    "date_test_end = datetime.date(2020, 12, 31)\n",
    "date_test = [(date_test_start+datetime.timedelta(days=x)).isoformat() for x in range(0, (date_test_end-date_test_start).days+1, 7)]\n",
    "print('date_test', date_test)\n",
    "\n",
    "loss_type = 'right-tail'\n",
    "\n",
    "weather_pert_hpt = []\n",
    "for alpha in [0.95, 1.]:\n",
    "    for smoothing in [3, 7, 14]:\n",
    "        if smoothing >= 3:\n",
    "            mcs = [True, False]\n",
    "        else:\n",
    "            mcs = [False]\n",
    "        for mc in mcs:\n",
    "            #if not mc:\n",
    "            if smoothing == 3:\n",
    "                cossines = [True, False]\n",
    "            else:\n",
    "                cossines = [True]\n",
    "            for cossine in cossines:\n",
    "                weather_pert_hpt.append({'alpha': alpha, 'smoothing': smoothing, 'mc': mc, 'cossine': cossine})\n",
    "print(len(weather_pert_hpt))"
   ]
  },
  {
   "cell_type": "code",
   "execution_count": 3,
   "metadata": {},
   "outputs": [],
   "source": [
    "src_id = str(9)\n",
    "\n",
    "data_dir = os.path.join('..', '..', 'data','cleaned')\n",
    "results_dir = os.path.join('..', '..', 'data', 'real', 'results_2018', src_id)\n",
    "hpt_bytask_dir = os.path.join('..', '..', 'data', 'real', 'by_task')\n",
    "\n",
    "\n",
    "if not os.path.exists(results_dir): os.mkdir(hpt_bytask_dir)\n",
    "data = pd.read_csv(os.path.join(data_dir, f\"{src_id}.csv\")).fillna(nan).replace([None], [nan])\n",
    "data[month_var] = data[date_column].apply(lambda v: int(v[5:7]))\n",
    "data[doy_var] = data[date_column].apply(lambda v: datetime.date.fromisoformat(v).timetuple().tm_yday)"
   ]
  },
  {
   "cell_type": "code",
   "execution_count": 46,
   "metadata": {},
   "outputs": [
    {
     "name": "stdout",
     "output_type": "stream",
     "text": [
      "density {'alpha': 0.85, 'smoothing': 3, 'mc': False, 'cossine': False}\n"
     ]
    }
   ],
   "source": [
    "# abrindo dados do experimento de antes\n",
    "with open(os.path.join(results_dir, 'observed.pickle'), 'rb') as file:\n",
    "    observed = pickle.load(file)\n",
    "observed_test = {k: v for k, v in observed.items() if k in date_test}\n",
    "observed_train = {k: v for k, v in observed.items() if k in date_train}\n",
    "\n",
    "\n",
    "with open(os.path.join(results_dir, 'weather_pert_hpt_best.pickle'), 'rb') as file:\n",
    "    weather_pert_hpt_best = pickle.load(file)[loss_type]\n",
    "print(loss_type, weather_pert_hpt_best)\n",
    "\n",
    "\n",
    "with open(os.path.join(results_dir, 'weather_pert_estimate_new.pickle'), 'rb') as file:\n",
    "    weather_pert_estimate = pickle.load(file)\n",
    "\n",
    "    \n",
    "with open(os.path.join(results_dir, 'two_steps_estimate.pickle'), 'rb') as file:\n",
    "    two_steps_estimate = pickle.load(file)"
   ]
  },
  {
   "cell_type": "markdown",
   "metadata": {},
   "source": [
    "# Executando otimização por tarefa"
   ]
  },
  {
   "cell_type": "code",
   "execution_count": 5,
   "metadata": {},
   "outputs": [],
   "source": [
    "def parallel_observed(data, date, project_schedule, tasks_conditions):\n",
    "    try:\n",
    "        return check_duration(\n",
    "            data=data, date_start=date,\n",
    "            tasks_conditions=tasks_conditions, project_schedule=project_schedule)\n",
    "    except Exception as e:\n",
    "        print(date, e)\n",
    "        return 0"
   ]
  },
  {
   "cell_type": "code",
   "execution_count": 6,
   "metadata": {},
   "outputs": [],
   "source": [
    "def sim_hpt(args, data, date_start, tasks_conditions, project_schedule, B):\n",
    "    model = WeatherPert(**args, column_date='date')\n",
    "    model.fit(\n",
    "        data=data, tasks_conditions=tasks_conditions)\n",
    "    durations = model.predict(\n",
    "        B=B, date_start=date_start, project_schedule=project_schedule)\n",
    "    return durations"
   ]
  },
  {
   "cell_type": "code",
   "execution_count": 7,
   "metadata": {},
   "outputs": [],
   "source": [
    "def simulate_PERT(date, data, weather_pert_params):\n",
    "    data_train = data[data[date_column] < date]\n",
    "    model = WeatherPert.by_task(weather_pert_params, column_date=date_column)\n",
    "    model.fit(\n",
    "        data=data_train,\n",
    "        tasks_conditions=tasks_conditions)\n",
    "    durations = model.predict(\n",
    "        B=B, date_start=date, project_schedule=project_schedule,)\n",
    "    return durations"
   ]
  },
  {
   "cell_type": "code",
   "execution_count": 34,
   "metadata": {},
   "outputs": [],
   "source": [
    "tasks = ['earthworks', 'concrete', 'steelworks', 'formworks', 'pavements', 'outdoor',]\n",
    "tasks_hpt = []\n",
    "for task in tasks:\n",
    "    tasks_hpt.append([{task: hpt} for hpt in weather_pert_hpt])"
   ]
  },
  {
   "cell_type": "code",
   "execution_count": 38,
   "metadata": {},
   "outputs": [
    {
     "data": {
      "text/plain": [
       "6"
      ]
     },
     "execution_count": 38,
     "metadata": {},
     "output_type": "execute_result"
    }
   ],
   "source": [
    "from itertools import product\n",
    "\n",
    "len(list(product(tasks_hpt)))"
   ]
  },
  {
   "cell_type": "code",
   "execution_count": 39,
   "metadata": {},
   "outputs": [
    {
     "name": "stderr",
     "output_type": "stream",
     "text": [
      "  0%|          | 0/6 [00:00<?, ?it/s]"
     ]
    },
    {
     "name": "stdout",
     "output_type": "stream",
     "text": [
      "planed_duration=15\n"
     ]
    },
    {
     "name": "stderr",
     "output_type": "stream",
     "text": [
      "100%|██████████| 53/53 [06:10<00:00,  7.00s/it]\n",
      " 17%|█▋        | 1/6 [06:12<31:02, 372.48s/it]"
     ]
    },
    {
     "name": "stdout",
     "output_type": "stream",
     "text": [
      "planed_duration=15\n"
     ]
    },
    {
     "name": "stderr",
     "output_type": "stream",
     "text": [
      "100%|██████████| 53/53 [09:40<00:00, 10.96s/it]\n",
      " 33%|███▎      | 2/6 [15:53<33:00, 495.14s/it]"
     ]
    },
    {
     "name": "stdout",
     "output_type": "stream",
     "text": [
      "planed_duration=15\n"
     ]
    },
    {
     "name": "stderr",
     "output_type": "stream",
     "text": [
      "100%|██████████| 53/53 [08:47<00:00,  9.95s/it]\n",
      " 50%|█████     | 3/6 [24:41<25:30, 510.10s/it]"
     ]
    },
    {
     "name": "stdout",
     "output_type": "stream",
     "text": [
      "planed_duration=15\n"
     ]
    },
    {
     "name": "stderr",
     "output_type": "stream",
     "text": [
      "100%|██████████| 53/53 [08:30<00:00,  9.63s/it]\n",
      " 67%|██████▋   | 4/6 [33:11<17:00, 510.30s/it]"
     ]
    },
    {
     "name": "stdout",
     "output_type": "stream",
     "text": [
      "planed_duration=10\n"
     ]
    },
    {
     "name": "stderr",
     "output_type": "stream",
     "text": [
      "100%|██████████| 53/53 [07:50<00:00,  8.87s/it]\n",
      " 83%|████████▎ | 5/6 [41:02<08:15, 495.89s/it]"
     ]
    },
    {
     "name": "stdout",
     "output_type": "stream",
     "text": [
      "planed_duration=10\n"
     ]
    },
    {
     "name": "stderr",
     "output_type": "stream",
     "text": [
      "100%|██████████| 53/53 [09:26<00:00, 10.68s/it]\n",
      "100%|██████████| 6/6 [50:28<00:00, 504.77s/it]\n"
     ]
    }
   ],
   "source": [
    "bytask_weather_pert_hpt_best = {}\n",
    "tasks = ['earthworks', 'concrete', 'steelworks', 'formworks', 'pavements', 'outdoor',]\n",
    "for task in tqdm(tasks):\n",
    "    planed_duration = max(project_schedule[f\"{task}_1\"], project_schedule[f\"{task}_2\"])\n",
    "    print(f\"{planed_duration=}\")\n",
    "    task_project_schedule = {task: planed_duration}\n",
    "    task_tasks_conditions = {task: tasks_conditions[f\"{task}_1\"]}\n",
    "    ###########################################################################\n",
    "    # Realizando Opt\n",
    "    ###########################################################################\n",
    "    real_durations = (\n",
    "        Parallel(n_jobs=-1, prefer=\"processes\")\n",
    "        (delayed(parallel_observed)(\n",
    "            data=data, date=date,\n",
    "            project_schedule=task_project_schedule,\n",
    "            tasks_conditions=task_tasks_conditions)\n",
    "        for date in date_train\n",
    "        ))\n",
    "    observed = {date: duration for date, duration in zip(date_train, real_durations) if duration > 0} \n",
    "    weather_pert_hpt_exps = []\n",
    "    for date, real_duration in tqdm(observed.items()):\n",
    "        data_train = data[data[date_column] < date]\n",
    "        simulations = (\n",
    "                Parallel(n_jobs=-1, prefer=\"processes\")\n",
    "                (delayed(sim_hpt)(\n",
    "                    args=args, data=data_train, date_start=date, B=B,\n",
    "                    tasks_conditions=task_tasks_conditions,\n",
    "                    project_schedule=task_project_schedule\n",
    "                    )\n",
    "                for args in weather_pert_hpt\n",
    "                ))\n",
    "        simulation_metrics = (\n",
    "            Parallel(n_jobs=-1, prefer=\"processes\")\n",
    "            (delayed(calculate_metrics)(observed=real_duration, estimate=estimate)\n",
    "            for estimate in (simulations)\n",
    "            ))\n",
    "        for args, estimate, metrics in zip(\n",
    "                weather_pert_hpt,\n",
    "                simulations,\n",
    "                simulation_metrics):\n",
    "            metrics['date'] = date\n",
    "            metrics['observed'] = real_duration\n",
    "            metrics['estimate'] = estimate\n",
    "            metrics['args'] = args\n",
    "            weather_pert_hpt_exps.append(metrics)\n",
    "\n",
    "\n",
    "    task_weather_pert_hpt_best = sorted(\n",
    "        weather_pert_hpt, key=lambda args: sum([\n",
    "            exp[loss_type]\n",
    "            for exp in weather_pert_hpt_exps\n",
    "            if exp['args'] == args\n",
    "        ]))[0]\n",
    "    \n",
    "    with open(os.path.join(hpt_bytask_dir, f'{task}_weather_pert_hpt_best.pickle'), 'wb') as file:\n",
    "        pickle.dump(weather_pert_hpt_best, file, protocol=pickle.HIGHEST_PROTOCOL)\n",
    "    \n",
    "    with open(os.path.join(hpt_bytask_dir, '{task}_weather_pert_hpt_best.pickle'), 'wb') as file:\n",
    "        pickle.dump(weather_pert_hpt_best, file, protocol=pickle.HIGHEST_PROTOCOL)\n",
    "\n",
    "    bytask_weather_pert_hpt_best[task] = task_weather_pert_hpt_best\n",
    "    \n",
    "with open(os.path.join(hpt_bytask_dir, 'bytask_weather_pert_hpt_best.pickle'), 'wb') as file:\n",
    "    pickle.dump(bytask_weather_pert_hpt_best, file, protocol=pickle.HIGHEST_PROTOCOL)"
   ]
  },
  {
   "cell_type": "code",
   "execution_count": 40,
   "metadata": {},
   "outputs": [
    {
     "name": "stdout",
     "output_type": "stream",
     "text": [
      "earthworks {'alpha': 0.85, 'smoothing': 7, 'mc': False, 'cossine': True}\n",
      "concrete {'alpha': 0.85, 'smoothing': 0, 'mc': False, 'cossine': False}\n",
      "steelworks {'alpha': 1.0, 'smoothing': 7, 'mc': False, 'cossine': False}\n",
      "formworks {'alpha': 1.0, 'smoothing': 7, 'mc': False, 'cossine': False}\n",
      "pavements {'alpha': 1.0, 'smoothing': 3, 'mc': False, 'cossine': False}\n",
      "outdoor {'alpha': 0.95, 'smoothing': 0, 'mc': False, 'cossine': False}\n"
     ]
    }
   ],
   "source": [
    "for task, hp in bytask_weather_pert_hpt_best.items(): \n",
    "    print(task, hp)"
   ]
  },
  {
   "cell_type": "code",
   "execution_count": 41,
   "metadata": {},
   "outputs": [],
   "source": [
    "bytask_weather_pert_hpt_best = {\n",
    "    f\"{task}_{i}\": hpt\n",
    "    for task, hpt in bytask_weather_pert_hpt_best.items()\n",
    "    for i in [1, 2]}"
   ]
  },
  {
   "cell_type": "code",
   "execution_count": 42,
   "metadata": {},
   "outputs": [
    {
     "name": "stdout",
     "output_type": "stream",
     "text": [
      "simulate_PERT exec time: 102.27 s\n"
     ]
    }
   ],
   "source": [
    "start = time.time()\n",
    "\n",
    "weather_pert = Parallel(n_jobs=-1, prefer=\"processes\")(\n",
    "    delayed(simulate_PERT)(\n",
    "        date=date, data=data,\n",
    "        weather_pert_params=bytask_weather_pert_hpt_best)\n",
    "    for date in observed_test)\n",
    "\n",
    "bytask_weather_pert_estimate = {}\n",
    "for date, simulation in zip(list(observed_test), weather_pert):\n",
    "    bytask_weather_pert_estimate[date] = simulation\n",
    "\n",
    "print(f'simulate_PERT exec time: {round(time.time()-start, 2)} s')\n",
    "\n",
    "with open(os.path.join(hpt_bytask_dir, 'bytask_weather_pert_estimate.pickle'), 'wb') as file:\n",
    "    pickle.dump(bytask_weather_pert_estimate, file, protocol=pickle.HIGHEST_PROTOCOL)"
   ]
  },
  {
   "cell_type": "markdown",
   "metadata": {},
   "source": [
    "# Comparando otimizações"
   ]
  },
  {
   "cell_type": "code",
   "execution_count": 47,
   "metadata": {},
   "outputs": [
    {
     "name": "stderr",
     "output_type": "stream",
     "text": [
      "100%|██████████| 105/105 [06:38<00:00,  3.79s/it]\n"
     ]
    }
   ],
   "source": [
    "all_metrics = []\n",
    "for date, real_duration in tqdm(observed_test.items()):\n",
    "    metrics = {'date': date, 'real_duration': real_duration}\n",
    "    for loss_type in ['right-tail', 'pinball', 'density']:\n",
    "        metrics[loss_type] = loss(observed=real_duration, estimate=weather_pert_estimate[date], loss_type=loss_type)\n",
    "        metrics[f\"bytask_{loss_type}\"] = loss(observed=real_duration, estimate=bytask_weather_pert_estimate[date], loss_type=loss_type)\n",
    "        metrics[f\"two_steps_{loss_type}\"] = loss(observed=real_duration, estimate=two_steps_estimate[date], loss_type=loss_type)\n",
    "    all_metrics.append(metrics)\n",
    "all_metrics = pd.DataFrame(all_metrics)"
   ]
  },
  {
   "cell_type": "code",
   "execution_count": 48,
   "metadata": {},
   "outputs": [],
   "source": [
    "import numpy as np"
   ]
  },
  {
   "cell_type": "code",
   "execution_count": 51,
   "metadata": {},
   "outputs": [
    {
     "data": {
      "text/plain": [
       "{'right-tail_mean': 5.019688955423949,\n",
       " 'right-tail_mean_error': 2.715453242679634,\n",
       " 'right-tail_std': 0.2650011017619386,\n",
       " 'bytask_right-tail_mean': 3.954652545060498,\n",
       " 'bytask_right-tail_mean_error': 2.2792974752534927,\n",
       " 'bytask_right-tail_std': 0.2224366572371291,\n",
       " 'two_steps_right-tail_mean': 4.829370973930401,\n",
       " 'two_steps_right-tail_mean_error': 2.64424891220148,\n",
       " 'two_steps_right-tail_std': 0.2580522706311504,\n",
       " 'right-tail_sig': True,\n",
       " 'two_stepsright-tail_sig': True,\n",
       " 'two_steps_best_model_right-tail': 'BY_TASK'}"
      ]
     },
     "execution_count": 51,
     "metadata": {},
     "output_type": "execute_result"
    }
   ],
   "source": [
    "result"
   ]
  },
  {
   "cell_type": "code",
   "execution_count": 54,
   "metadata": {},
   "outputs": [
    {
     "name": "stdout",
     "output_type": "stream",
     "text": [
      "right-tail_mean 5.019688955423949\n",
      "right-tail_mean_error 2.715453242679634\n",
      "right-tail_std 0.2650011017619386\n",
      "bytask_right-tail_mean 3.954652545060498\n",
      "bytask_right-tail_mean_error 2.2792974752534927\n",
      "bytask_right-tail_std 0.2224366572371291\n",
      "two_steps_right-tail_mean 4.829370973930401\n",
      "two_steps_right-tail_mean_error 2.64424891220148\n",
      "two_steps_right-tail_std 0.2580522706311504\n",
      "right-tail_sig True\n",
      "two_steps_right-tail_sig True\n",
      "best_model_right-tail BY_TASK\n",
      "best_sig_model_right-tail BY_TASK\n",
      "two_steps_best_model_right-tail BY_TASK\n",
      "two_steps_best_sig_model_right-tail BY_TASK\n",
      "pinball_mean 17.115045705469733\n",
      "pinball_mean_error 10.022292982309203\n",
      "pinball_std 0.9780756452547124\n",
      "bytask_pinball_mean 14.883006303278693\n",
      "bytask_pinball_mean_error 9.53142476733306\n",
      "bytask_pinball_std 0.930171812574379\n",
      "two_steps_pinball_mean 16.722445535778093\n",
      "two_steps_pinball_mean_error 10.265099092943379\n",
      "two_steps_pinball_std 1.0017710953627366\n",
      "pinball_sig True\n",
      "two_steps_pinball_sig True\n",
      "best_model_pinball BY_TASK\n",
      "best_sig_model_pinball BY_TASK\n",
      "two_steps_best_model_pinball BY_TASK\n",
      "two_steps_best_sig_model_pinball BY_TASK\n",
      "density_mean -0.011979314669310012\n",
      "density_mean_error 0.011942659622612749\n",
      "density_std 0.0011654842396907285\n",
      "bytask_density_mean -0.016153588383061142\n",
      "bytask_density_mean_error 0.021638820080522616\n",
      "bytask_density_std 0.002111732609510221\n",
      "two_steps_density_mean -0.012625964546535206\n",
      "two_steps_density_mean_error 0.01295907956793631\n",
      "two_steps_density_std 0.001264676669569489\n",
      "density_sig False\n",
      "two_steps_density_sig False\n",
      "best_model_density BY_TASK\n",
      "best_sig_model_density not sig\n",
      "two_steps_best_model_density BY_TASK\n",
      "two_steps_best_sig_model_density not sig\n"
     ]
    }
   ],
   "source": [
    "result = {}\n",
    "from scipy.stats import wilcoxon\n",
    "alpha = 0.05\n",
    "\n",
    "for loss_type in ['right-tail', 'pinball', 'density']:\n",
    "    statistic, p_value = wilcoxon(all_metrics[loss_type], all_metrics[f\"bytask_{loss_type}\"])\n",
    "    sig = p_value < alpha\n",
    "    statistic, p_value = wilcoxon(all_metrics[f\"two_steps_{loss_type}\"],all_metrics[f\"bytask_{loss_type}\"])\n",
    "    two_steps_sig = p_value < alpha\n",
    "    result = {**result, **{\n",
    "        f'{loss_type}_mean': np.mean(all_metrics[loss_type]),\n",
    "        f'{loss_type}_mean_error': np.std(all_metrics[loss_type]),\n",
    "        f'{loss_type}_std': np.std(all_metrics[loss_type]) / np.sqrt(len(all_metrics[loss_type])),\n",
    "        f'bytask_{loss_type}_mean': np.mean(all_metrics[f\"bytask_{loss_type}\"]),\n",
    "        f'bytask_{loss_type}_mean_error': np.std(all_metrics[f\"bytask_{loss_type}\"]),\n",
    "        f'bytask_{loss_type}_std': np.std(all_metrics[f\"bytask_{loss_type}\"]) / np.sqrt(len(all_metrics[f\"bytask_{loss_type}\"])),\n",
    "        f'two_steps_{loss_type}_mean': np.mean(all_metrics[f\"two_steps_{loss_type}\"]),\n",
    "        f'two_steps_{loss_type}_mean_error': np.std(all_metrics[f\"two_steps_{loss_type}\"]),\n",
    "        f'two_steps_{loss_type}_std': np.std(all_metrics[f\"two_steps_{loss_type}\"]) / np.sqrt(len(all_metrics[f\"two_steps_{loss_type}\"])),\n",
    "        f'{loss_type}_sig': sig,\n",
    "        f'two_steps_{loss_type}_sig': two_steps_sig,\n",
    "        }}\n",
    "    result[f'best_model_{loss_type}'] = 'BY_TASK' if result[f'bytask_{loss_type}_mean'] <= result[f'{loss_type}_mean'] else 'PRJECT'\n",
    "    result[f'best_sig_model_{loss_type}'] = result[f'best_model_{loss_type}'] if result[f'{loss_type}_sig'] else 'not sig'\n",
    "    result[f'two_steps_best_model_{loss_type}'] = 'BY_TASK' if result[f'bytask_{loss_type}_mean'] <= result[f'two_steps_{loss_type}_mean'] else 'TWO STEPS'\n",
    "    result[f'two_steps_best_sig_model_{loss_type}'] = result[f'best_model_{loss_type}'] if result[f'two_steps_{loss_type}_sig'] else 'not sig'\n",
    "for key, value in result.items():\n",
    "    print(key, value)"
   ]
  },
  {
   "cell_type": "code",
   "execution_count": 65,
   "metadata": {},
   "outputs": [],
   "source": [
    "\n",
    "tasks = ['earthworks', 'concrete', 'steelworks', 'formworks', 'pavements', 'outdoor',]\n",
    "df_tasks =  data[['date']]\n",
    "\n",
    "for task in tasks:\n",
    "    df_tasks[task] = data.apply(lambda row: tasks_conditions[f\"{task}_1\"](**row)*1, axis=1)"
   ]
  },
  {
   "cell_type": "code",
   "execution_count": 67,
   "metadata": {},
   "outputs": [],
   "source": [
    "df_tasks['year'] = df_tasks['date'].apply(lambda v: v[:4])"
   ]
  },
  {
   "cell_type": "code",
   "execution_count": 75,
   "metadata": {},
   "outputs": [],
   "source": [
    "df_tasks['month'] = df_tasks['date'].apply(lambda v: v[5:7])"
   ]
  },
  {
   "cell_type": "code",
   "execution_count": 68,
   "metadata": {},
   "outputs": [
    {
     "data": {
      "image/png": "[encoded data removed]",
      "text/plain": [
       "<Figure size 600x400 with 1 Axes>"
      ]
     },
     "metadata": {},
     "output_type": "display_data"
    }
   ],
   "source": [
    "import seaborn as sns\n",
    "import matplotlib.pyplot as plt\n",
    "from matplotlib import rcParams\n",
    "from matplotlib.patches import Rectangle\n",
    "import pandas as pd\n",
    "import seaborn as sns\n",
    "\n",
    "df=pd.DataFrame(data=[i for i in range(len(df_tasks['year'].unique()))],columns=['year'])\n",
    "table=df['year'].reset_index()\n",
    "fig, ax1 = plt.subplots(figsize=(6,4))\n",
    "sns.barplot(x='index', y='year', data=table, ax=ax1, palette='gist_gray_r')\n",
    "\n",
    "bars = [r for r in ax1.get_children() if type(r)==Rectangle]\n",
    "colors = [c.get_facecolor() for c in bars[:-1]]\n",
    "colors = [f\"rgb({c[0]},{c[1]},{c[2]})\" for c in colors]"
   ]
  },
  {
   "cell_type": "code",
   "execution_count": 69,
   "metadata": {},
   "outputs": [],
   "source": [
    "import plotly.express as px\n",
    "import plotly.figure_factory as ff\n",
    "from plotly.subplots import make_subplots\n",
    "import plotly.express as px\n",
    "import plotly.graph_objects as go\n",
    "import plotly.express as px\n",
    "import plotly.offline as py"
   ]
  },
  {
   "cell_type": "code",
   "execution_count": 71,
   "metadata": {},
   "outputs": [],
   "source": [
    "task_rename = {\n",
    "    'earthworks': 'Terraplanagem',\n",
    "    'concrete': 'Concretagem',\n",
    "    'formworks': 'Cofragem',\n",
    "    'steelworks': 'Siderurgia',\n",
    "    'outdoor': 'Pinturas exteriores',\n",
    "    'pavements': 'Pavimentação de asfalto'\n",
    "}"
   ]
  },
  {
   "cell_type": "code",
   "execution_count": 81,
   "metadata": {},
   "outputs": [],
   "source": [
    "fig = (\n",
    "    df_tasks\n",
    "    .melt(\n",
    "        id_vars=['year', 'month'],\n",
    "        value_vars=[\n",
    "            'earthworks', 'concrete', 'formworks',\n",
    "            'steelworks', 'outdoor', 'pavements'],\n",
    "        var_name='Tarefa'\n",
    "    )\n",
    "    .groupby(['year', 'month', 'Tarefa'])\n",
    "    .agg(working_days = ('value', 'mean'))\n",
    "    .reset_index()\n",
    "    .assign(\n",
    "        order = lambda df: np.select([\n",
    "            (df['Tarefa'] == 'earthworks'),\n",
    "            (df['Tarefa'] == 'formworks'),\n",
    "            (df['Tarefa'] == 'steelworks'),\n",
    "            (df['Tarefa'] == 'concrete'),\n",
    "            (df['Tarefa'] == 'outdoor'),\n",
    "            (df['Tarefa'] == 'pavements')\n",
    "            ],\n",
    "            [0, 1, 2, 3, 4, 5]\n",
    "            ),\n",
    "        Tarefa = lambda df: df['Tarefa'].apply(lambda v: task_rename[v]),\n",
    "        month = lambda df: df['month'].astype(int)\n",
    "    )\n",
    "    .sort_values(['order', 'year', 'month'])\n",
    "    .rename(columns={\n",
    "        'working_days': 'Dias trabalhados (%)',\n",
    "        'year': 'Ano',\n",
    "        'month': 'Mês'\n",
    "    })\n",
    "    .pipe(lambda df: (\n",
    "        px.line(\n",
    "            df, x='Mês', y='Dias trabalhados (%)', color='Ano',\n",
    "            template=\"simple_white\",\n",
    "            color_discrete_sequence=colors,\n",
    "            facet_col='Tarefa', facet_col_wrap=2)\n",
    "    ))\n",
    ")\n",
    "fig.update_layout(\n",
    "    yaxis_range=[0,1],\n",
    "    width=600, height=900,\n",
    "    margin=dict(t=50),\n",
    "    legend=dict(\n",
    "        traceorder=\"reversed\" # this is default\n",
    "    )\n",
    "    # legend=dict(\n",
    "    #     orientation=\"h\",\n",
    "    #     yanchor=\"bottom\",\n",
    "    #     y=1.02,\n",
    "    #     xanchor=\"right\",\n",
    "    #     x=1)\n",
    "    )\n",
    "fig.write_image(\"real_bytask_dados.pdf\")"
   ]
  },
  {
   "cell_type": "code",
   "execution_count": 102,
   "metadata": {},
   "outputs": [
    {
     "name": "stdout",
     "output_type": "stream",
     "text": [
      "Terraplanagem & 0.85 & 7 & False & True \\\\\n",
      "Concretagem & 0.85 & 0 & False & False \\\\\n",
      "Siderurgia & 1.0 & 7 & False & False \\\\\n",
      "Cofragem & 1.0 & 7 & False & False \\\\\n",
      "Pavimentação de asfalto & 1.0 & 3 & False & False \\\\\n",
      "Pinturas exteriores & 0.95 & 0 & False & False \\\\\n"
     ]
    }
   ],
   "source": [
    "for task in tasks:\n",
    "    row = task_rename[task]\n",
    "    for param in ['alpha', 'smoothing', 'mc', 'cossine']:\n",
    "        row += f\" & {bytask_weather_pert_hpt_best[f'{task}_1'][param]}\"\n",
    "    row += ' \\\\\\\\'\n",
    "    print(row)"
   ]
  },
  {
   "cell_type": "code",
   "execution_count": 88,
   "metadata": {},
   "outputs": [],
   "source": [
    "model = WeatherPert.by_task(bytask_weather_pert_hpt_best, column_date=date_column)\n",
    "model.fit(tasks_conditions=tasks_conditions, data=data[data['date'] < '2019-01-01'])"
   ]
  },
  {
   "cell_type": "code",
   "execution_count": 89,
   "metadata": {},
   "outputs": [],
   "source": [
    "x = list(range(1, 60)) + [59.5] + list(range(60, 366))\n",
    "thetas = model.theta\n",
    "task_rename = {\n",
    "    'earthworks': 'Terraplanagem',\n",
    "    'concrete': 'Concretagem',\n",
    "    'formworks': 'Cofragem',\n",
    "    'steelworks': 'Siderurgia',\n",
    "    'outdoor': 'Pinturas exteriores',\n",
    "    'pavements': 'Pavimentação de asfalto'\n",
    "}\n",
    "fig = (\n",
    "    pd.DataFrame([\n",
    "        [x[i], task_rename[task.replace('_1', '')], t]\n",
    "        for j, (task, theta) in enumerate(thetas.items())\n",
    "            if j < len(thetas)/2\n",
    "        for i, t in enumerate(theta)\n",
    "        ], columns = ['Dia do ano', 'Tarefa', 'theta']\n",
    "    ).pipe(lambda df: (\n",
    "        px.line(\n",
    "            df, x='Dia do ano', y='theta', color='Tarefa',\n",
    "            template=\"simple_white\", # color_discrete_sequence=colors,\n",
    "            #facet_col='fi', facet_col_wrap=2\n",
    "            )\n",
    "    )))\n",
    "fig.update_layout(\n",
    "    yaxis_range=[0,1],\n",
    "    width=800, height=600,\n",
    "    yaxis_title=r'$\\widehat \\theta_{t,i}$',\n",
    "    xaxis_title=r'$i$'\n",
    "    )\n",
    "fig.write_image(\"exp_bytask_thetas.pdf\")"
   ]
  }
 ],
 "metadata": {
  "kernelspec": {
   "display_name": "venv",
   "language": "python",
   "name": "python3"
  },
  "language_info": {
   "codemirror_mode": {
    "name": "ipython",
    "version": 3
   },
   "file_extension": ".py",
   "mimetype": "text/x-python",
   "name": "python",
   "nbconvert_exporter": "python",
   "pygments_lexer": "ipython3",
   "version": "3.8.10"
  }
 },
 "nbformat": 4,
 "nbformat_minor": 2
}
